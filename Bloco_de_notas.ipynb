{
  "nbformat": 4,
  "nbformat_minor": 0,
  "metadata": {
    "colab": {
      "provenance": [],
      "authorship_tag": "ABX9TyNH95X6e0mqCUhiDuTanzau",
      "include_colab_link": true
    },
    "kernelspec": {
      "name": "python3",
      "display_name": "Python 3"
    },
    "language_info": {
      "name": "python"
    }
  },
  "cells": [
    {
      "cell_type": "markdown",
      "metadata": {
        "id": "view-in-github",
        "colab_type": "text"
      },
      "source": [
        "<a href=\"https://colab.research.google.com/github/tottithome/Python/blob/main/Bloco_de_notas.ipynb\" target=\"_parent\"><img src=\"https://colab.research.google.com/assets/colab-badge.svg\" alt=\"Open In Colab\"/></a>"
      ]
    },
    {
      "cell_type": "markdown",
      "source": [
        "O comando \"system('clear')\" do os não funciona no colab\n"
      ],
      "metadata": {
        "id": "Zv6PB2hKiwKG"
      }
    },
    {
      "cell_type": "code",
      "execution_count": null,
      "metadata": {
        "id": "i3yLaElCibZ7"
      },
      "outputs": [],
      "source": [
        "from os import system\n",
        "from time import sleep"
      ]
    },
    {
      "cell_type": "code",
      "source": [
        "bn = 1\n",
        "notas = []\n",
        "conclu = []\n",
        "while bn == 1 :\n",
        "  nmr = len(notas)\n",
        "  nmrc = len(conclu)\n",
        "  sleep(0.5)\n",
        "  system('clear')\n",
        "  print('~~~~~~ Bloco de notas ~~~~~~')\n",
        "  print('''\n",
        "1 - Adicionar nota\n",
        "2 - Ver notas\n",
        "3 - Marcar nota como concluída\n",
        "4 - Excluir nota\n",
        "5 - Sair''')\n",
        "  escolha = int(input('\\nO que deseja fazer?\\n'))\n",
        "  if escolha == 1 :\n",
        "    system('clear')\n",
        "    add_nota = input('Escreva sua nota: ')\n",
        "    notas.append(add_nota)\n",
        "    print('Nota adicionada!')\n",
        "    sleep(0.5)\n",
        "  elif escolha == 2 :\n",
        "    system('clear')\n",
        "    print('~~~~~~ Minhas notas ~~~~~~\\n')\n",
        "    print(f'Você tem {nmr} notas!\\n')\n",
        "    for n in range(nmr):\n",
        "      print(f'- {notas[n]}\\n')\n",
        "    print('\\n~~~~ Notas concluídas ~~~~\\n')\n",
        "    print(f'Você tem {nmrc} nota(s) concluída(s)\\n')\n",
        "    for x in range(nmrc) :\n",
        "      print(f'{x+1}-{conclu[x]}\\n')\n",
        "    sleep(5)\n",
        "\n",
        "  elif escolha == 3:\n",
        "    system('clear')\n",
        "    print('~~~~~~ Minhas notas ~~~~~~\\n')\n",
        "    for n in range(nmr):\n",
        "      print(f'{n+1}-{notas[n]}\\n')\n",
        "    concluida = int(input('Escolha uma nota para marcar como concluída:\\n'))\n",
        "    conclu.append(notas[concluida-1])\n",
        "    notas.pop(concluida-1)\n",
        "    print('Nota marcada como concluída!')\n",
        "    sleep(0.5)\n",
        "\n",
        "  elif escolha == 4 :\n",
        "    system('clear')\n",
        "    print('~~~~~~ Minhas notas ~~~~~~\\n')\n",
        "    for n in range(nmr):\n",
        "      print(f'{n+1}-{notas[n]}\\n')\n",
        "    excluir = int(input('Escolha uma nota para excluir:\\n'))\n",
        "    notas.pop(excluir-1)\n",
        "    print('Nota excluída com sucesso!')\n",
        "    sleep(1)\n",
        "\n",
        "\n",
        "  elif escolha == 5 :\n",
        "    system('clear')\n",
        "    sair = int(input('Deseja sair? (1 - Sim, 2 - Não) \\n\\n'))\n",
        "    if sair == 1 :\n",
        "      bn+=1\n",
        "    elif sair == 2 :\n",
        "      system('clear')"
      ],
      "metadata": {
        "colab": {
          "base_uri": "https://localhost:8080/"
        },
        "id": "zMZi2UNfil3q",
        "outputId": "2271cc83-4e3e-4ebf-c791-6130eff6f7b2"
      },
      "execution_count": null,
      "outputs": [
        {
          "name": "stdout",
          "output_type": "stream",
          "text": [
            "~~~~~~ Bloco de notas ~~~~~~\n",
            "\n",
            "1 - Adicionar nota\n",
            "2 - Ver notas\n",
            "3 - Marcar nota como concluída\n",
            "4 - Excluir nota\n",
            "5 - Sair\n",
            "\n",
            "O que deseja fazer?\n",
            "1\n",
            "Escreva sua nota: teste\n",
            "Nota adicionada!\n",
            "~~~~~~ Bloco de notas ~~~~~~\n",
            "\n",
            "1 - Adicionar nota\n",
            "2 - Ver notas\n",
            "3 - Marcar nota como concluída\n",
            "4 - Excluir nota\n",
            "5 - Sair\n",
            "\n",
            "O que deseja fazer?\n",
            "3\n",
            "~~~~~~ Minhas notas ~~~~~~\n",
            "\n",
            "1-teste\n",
            "\n",
            "Escolha uma nota para marcar como concluída:\n",
            "1\n",
            "Nota marcada como concluída!\n",
            "~~~~~~ Bloco de notas ~~~~~~\n",
            "\n",
            "1 - Adicionar nota\n",
            "2 - Ver notas\n",
            "3 - Marcar nota como concluída\n",
            "4 - Excluir nota\n",
            "5 - Sair\n",
            "\n",
            "O que deseja fazer?\n",
            "5\n"
          ]
        }
      ]
    }
  ]
}
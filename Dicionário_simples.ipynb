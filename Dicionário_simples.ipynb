{
  "nbformat": 4,
  "nbformat_minor": 0,
  "metadata": {
    "colab": {
      "provenance": [],
      "authorship_tag": "ABX9TyMnGJa4GCfIXLO5PZ6/8TBO",
      "include_colab_link": true
    },
    "kernelspec": {
      "name": "python3",
      "display_name": "Python 3"
    },
    "language_info": {
      "name": "python"
    }
  },
  "cells": [
    {
      "cell_type": "markdown",
      "metadata": {
        "id": "view-in-github",
        "colab_type": "text"
      },
      "source": [
        "<a href=\"https://colab.research.google.com/github/tottithome/Python/blob/main/Dicion%C3%A1rio_simples.ipynb\" target=\"_parent\"><img src=\"https://colab.research.google.com/assets/colab-badge.svg\" alt=\"Open In Colab\"/></a>"
      ]
    },
    {
      "cell_type": "code",
      "execution_count": 1,
      "metadata": {
        "colab": {
          "base_uri": "https://localhost:8080/"
        },
        "id": "-gFwjWB7mkkc",
        "outputId": "0f2da40a-5963-4400-e15a-25597667bbb2"
      },
      "outputs": [
        {
          "output_type": "stream",
          "name": "stdout",
          "text": [
            "\n",
            "tipo: <class 'dict'>\n",
            "\n",
            "discionário: {'one': 1, 'two': 2, 'three': 3, 'four': 4, 'five': 5, 'six': 6, 'seven': 7, 'eight': 8, 'nine': 9, 'ten': 10}\n",
            "\n",
            "1 2\n"
          ]
        }
      ],
      "source": [
        "ing_port = {'one' : 1, 'two' : 2, 'three' : 3, 'four' : 4, 'five' : 5, 'six' : 6, 'seven' : 7, 'eight' : 8, 'nine' : 9, 'ten' : 10}\n",
        "\n",
        "print(f\"\\ntipo: {type(ing_port)}\\n\")\n",
        "print(f'discionário: {ing_port}\\n')\n",
        "\n",
        "print(ing_port['one'], ing_port['two'])"
      ]
    }
  ]
}
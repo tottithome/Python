{
  "nbformat": 4,
  "nbformat_minor": 0,
  "metadata": {
    "colab": {
      "provenance": [],
      "authorship_tag": "ABX9TyOsUCl6mS4fSNQ6Epk5FvnZ",
      "include_colab_link": true
    },
    "kernelspec": {
      "name": "python3",
      "display_name": "Python 3"
    },
    "language_info": {
      "name": "python"
    }
  },
  "cells": [
    {
      "cell_type": "markdown",
      "metadata": {
        "id": "view-in-github",
        "colab_type": "text"
      },
      "source": [
        "<a href=\"https://colab.research.google.com/github/tottithome/Python/blob/main/try_e_except.ipynb\" target=\"_parent\"><img src=\"https://colab.research.google.com/assets/colab-badge.svg\" alt=\"Open In Colab\"/></a>"
      ]
    },
    {
      "cell_type": "code",
      "execution_count": null,
      "metadata": {
        "id": "H0pYqt3Pq6Zd"
      },
      "outputs": [],
      "source": [
        "try :\n",
        "  # teste\n",
        "except :\n",
        "  # roda se der erro, pode ser usado com algum comando para uma mensagem especifica\n",
        "else :\n",
        "  # roda sempre que o try der certo\n",
        "finally :\n",
        "  # roda sempre"
      ]
    },
    {
      "cell_type": "code",
      "source": [
        "def divisao() -> int :\n",
        "  x = int(input(\"Número 1: \"))\n",
        "  y = int(input(\"Número 2: \"))\n",
        "  try :\n",
        "    a = x / y\n",
        "  except :\n",
        "    print(\"Erro\")\n",
        "  else :\n",
        "    print(\"Números divididos com sucesso!\")\n",
        "  finally :\n",
        "    print(\"Isso aqui roda sempre\")\n",
        "\n",
        "  print(a)\n",
        "\n",
        "divisao()"
      ],
      "metadata": {
        "colab": {
          "base_uri": "https://localhost:8080/"
        },
        "id": "dg0442F6FYiy",
        "outputId": "5a8f47e1-193c-47be-bb02-cc4bfcce686d"
      },
      "execution_count": 23,
      "outputs": [
        {
          "output_type": "stream",
          "name": "stdout",
          "text": [
            "Número 1: 9\n",
            "Número 2: 3\n",
            "Números divididos com sucesso!\n",
            "Isso aqui roda sempre\n",
            "3.0\n"
          ]
        }
      ]
    }
  ]
}
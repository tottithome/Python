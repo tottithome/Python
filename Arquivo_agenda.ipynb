{
  "nbformat": 4,
  "nbformat_minor": 0,
  "metadata": {
    "colab": {
      "provenance": [],
      "authorship_tag": "ABX9TyNbwNgoEUCHzzHY0ksdXWGu",
      "include_colab_link": true
    },
    "kernelspec": {
      "name": "python3",
      "display_name": "Python 3"
    },
    "language_info": {
      "name": "python"
    }
  },
  "cells": [
    {
      "cell_type": "markdown",
      "metadata": {
        "id": "view-in-github",
        "colab_type": "text"
      },
      "source": [
        "<a href=\"https://colab.research.google.com/github/tottithome/Python/blob/main/Arquivo_agenda.ipynb\" target=\"_parent\"><img src=\"https://colab.research.google.com/assets/colab-badge.svg\" alt=\"Open In Colab\"/></a>"
      ]
    },
    {
      "cell_type": "markdown",
      "source": [
        "Funciona no replit"
      ],
      "metadata": {
        "id": "PjZPJDIOp2Vn"
      }
    },
    {
      "cell_type": "code",
      "execution_count": 1,
      "metadata": {
        "colab": {
          "base_uri": "https://localhost:8080/",
          "height": 384
        },
        "id": "j81anx_ZpoGn",
        "outputId": "6e569a31-27a4-4278-9263-abaaecd52ca7"
      },
      "outputs": [
        {
          "output_type": "stream",
          "name": "stdout",
          "text": [
            "****************************************\n",
            "           Agenda de Contatos           \n",
            "****************************************\n"
          ]
        },
        {
          "output_type": "error",
          "ename": "FileNotFoundError",
          "evalue": "[Errno 2] No such file or directory: 'login.txt'",
          "traceback": [
            "\u001b[0;31m---------------------------------------------------------------------------\u001b[0m",
            "\u001b[0;31mFileNotFoundError\u001b[0m                         Traceback (most recent call last)",
            "\u001b[0;32m<ipython-input-1-617aec8a71e5>\u001b[0m in \u001b[0;36m<cell line: 89>\u001b[0;34m()\u001b[0m\n\u001b[1;32m     88\u001b[0m \u001b[0mprint\u001b[0m\u001b[0;34m(\u001b[0m\u001b[0;34m\"*\"\u001b[0m\u001b[0;34m*\u001b[0m\u001b[0;36m40\u001b[0m\u001b[0;34m)\u001b[0m\u001b[0;34m\u001b[0m\u001b[0;34m\u001b[0m\u001b[0m\n\u001b[1;32m     89\u001b[0m \u001b[0;32mwhile\u001b[0m \u001b[0;32mTrue\u001b[0m\u001b[0;34m:\u001b[0m\u001b[0;34m\u001b[0m\u001b[0;34m\u001b[0m\u001b[0m\n\u001b[0;32m---> 90\u001b[0;31m   \u001b[0mcarrega_login\u001b[0m\u001b[0;34m(\u001b[0m\u001b[0;34m)\u001b[0m\u001b[0;34m\u001b[0m\u001b[0;34m\u001b[0m\u001b[0m\n\u001b[0m\u001b[1;32m     91\u001b[0m   \u001b[0;32mif\u001b[0m \u001b[0mverifica_login\u001b[0m\u001b[0;34m(\u001b[0m\u001b[0;34m)\u001b[0m\u001b[0;34m:\u001b[0m\u001b[0;34m\u001b[0m\u001b[0;34m\u001b[0m\u001b[0m\n\u001b[1;32m     92\u001b[0m     \u001b[0mprincipal\u001b[0m\u001b[0;34m(\u001b[0m\u001b[0;34m)\u001b[0m\u001b[0;34m\u001b[0m\u001b[0;34m\u001b[0m\u001b[0m\n",
            "\u001b[0;32m<ipython-input-1-617aec8a71e5>\u001b[0m in \u001b[0;36mcarrega_login\u001b[0;34m()\u001b[0m\n\u001b[1;32m     10\u001b[0m   \u001b[0;32mglobal\u001b[0m \u001b[0musuarios\u001b[0m\u001b[0;34m\u001b[0m\u001b[0;34m\u001b[0m\u001b[0m\n\u001b[1;32m     11\u001b[0m   \u001b[0;32mglobal\u001b[0m \u001b[0mlista_user\u001b[0m\u001b[0;34m\u001b[0m\u001b[0;34m\u001b[0m\u001b[0m\n\u001b[0;32m---> 12\u001b[0;31m   \u001b[0;32mwith\u001b[0m \u001b[0mopen\u001b[0m\u001b[0;34m(\u001b[0m\u001b[0;34m\"login.txt\"\u001b[0m\u001b[0;34m,\u001b[0m \u001b[0;34m'r'\u001b[0m\u001b[0;34m)\u001b[0m \u001b[0;32mas\u001b[0m \u001b[0mlogins\u001b[0m\u001b[0;34m:\u001b[0m\u001b[0;34m\u001b[0m\u001b[0;34m\u001b[0m\u001b[0m\n\u001b[0m\u001b[1;32m     13\u001b[0m     \u001b[0musuarios\u001b[0m \u001b[0;34m=\u001b[0m \u001b[0mlogins\u001b[0m\u001b[0;34m.\u001b[0m\u001b[0mreadlines\u001b[0m\u001b[0;34m(\u001b[0m\u001b[0;34m)\u001b[0m\u001b[0;34m\u001b[0m\u001b[0;34m\u001b[0m\u001b[0m\n\u001b[1;32m     14\u001b[0m     \u001b[0;32mfor\u001b[0m \u001b[0mlinha\u001b[0m \u001b[0;32min\u001b[0m \u001b[0musuarios\u001b[0m\u001b[0;34m:\u001b[0m\u001b[0;34m\u001b[0m\u001b[0;34m\u001b[0m\u001b[0m\n",
            "\u001b[0;31mFileNotFoundError\u001b[0m: [Errno 2] No such file or directory: 'login.txt'"
          ]
        }
      ],
      "source": [
        "import time\n",
        "import os\n",
        "import getpass\n",
        "lista = []\n",
        "nomes = []\n",
        "usuarios = []\n",
        "lista_user = []\n",
        "\n",
        "def carrega_login():\n",
        "  global usuarios\n",
        "  global lista_user\n",
        "  with open(\"login.txt\", 'r') as logins:\n",
        "    usuarios = logins.readlines()\n",
        "    for linha in usuarios:\n",
        "      linha = linha.replace('\\n','')\n",
        "      lista_user.append(linha.split(';'))\n",
        "   # print(lista_user)\n",
        "def verifica_login():\n",
        "  global lista_user\n",
        "  contador = 1\n",
        "  while contador <= 3:\n",
        "    #os.system(\"clear\")\n",
        "    user = input(\"Usuário: \")\n",
        "    senha = getpass.getpass(\"Senha: \")\n",
        "    for x in lista_user:\n",
        "      if user == x[0] and senha == x[1]:\n",
        "        print('\\n** Login realizado com sucesso! **\\n')\n",
        "        time.sleep(2)\n",
        "        os.system(\"clear\")\n",
        "        return True\n",
        "    else:\n",
        "      print(\"\\n** Erro: com o usuário ou senha **\\n\")\n",
        "      input(\"Digite para continuar... \")\n",
        "    contador = contador + 1\n",
        "  else:\n",
        "    print('\\n→ ** Três tentativas incorretas. Acesso negado. **\\n')\n",
        "    return False\n",
        "\n",
        "def menu():\n",
        "  print(\"*\"*40)\n",
        "  print(f\"{'Agenda de Contatos':^40}\")\n",
        "  print(\"*\"*40)\n",
        "  print(\"Opções:\")\n",
        "  print(\"1 - Cadastrar um contato\")\n",
        "  print(\"2 - Exibir todos os contatos\")\n",
        "\n",
        "def cadastrar():\n",
        "  print(\"-\"*40)\n",
        "  print(f\"{'Cadastro de Contatos':^40}\")\n",
        "  with open(\"agenda.txt\", 'a') as agenda:\n",
        "    agenda.write(f'{input(\"Nome:\")};{input(\"Telefone:\")};{input(\"E-mail:\")}\\n')\n",
        "    time.sleep(2)\n",
        "  print(\"Cadastro realizado com sucesso!\")\n",
        "  print(\"-\"*40)\n",
        "\n",
        "def exibir():\n",
        "  with open(\"agenda.txt\", 'r') as dados:\n",
        "    lista = dados.readlines()\n",
        "    for linha in lista:\n",
        "      nomes.append(linha.split(';'))\n",
        "\n",
        "    for x in range(len(lista)):\n",
        "      print(f\"Nome: {nomes[x][0]} - Tel.: {nomes[x][1]} - e-mail: {nomes[x][2]}\", end='')\n",
        "  print(\"*\"*40)\n",
        "\n",
        "\n",
        "\n",
        "#Principal\n",
        "\n",
        "def principal():\n",
        "  menu()\n",
        "  opcao = input(\"Escolha o que deseja fazer: \")\n",
        "  print(\"*\"*40)\n",
        "  if opcao == '1':\n",
        "    cadastrar()\n",
        "  elif opcao == '2':\n",
        "    exibir()\n",
        "  elif opcao == '3':\n",
        "    print(\"Saindo...\")\n",
        "    print(\"Programa finalizado!\")\n",
        "    time.sleep(2)\n",
        "    os.system(\"clear\")\n",
        "  else:\n",
        "    print(\"Opção inválida\")\n",
        "\n",
        "print(\"*\"*40)\n",
        "print(f\"{'Agenda de Contatos':^40}\")\n",
        "print(\"*\"*40)\n",
        "while True:\n",
        "  carrega_login()\n",
        "  if verifica_login():\n",
        "    principal()\n",
        "  else:\n",
        "    print(\"Programa finalizado!\")"
      ]
    }
  ]
}
{
  "nbformat": 4,
  "nbformat_minor": 0,
  "metadata": {
    "colab": {
      "provenance": [],
      "authorship_tag": "ABX9TyMIQNfI8TRGAbuFyh1fezJY",
      "include_colab_link": true
    },
    "kernelspec": {
      "name": "python3",
      "display_name": "Python 3"
    },
    "language_info": {
      "name": "python"
    }
  },
  "cells": [
    {
      "cell_type": "markdown",
      "metadata": {
        "id": "view-in-github",
        "colab_type": "text"
      },
      "source": [
        "<a href=\"https://colab.research.google.com/github/tottithome/Python/blob/main/N%C3%BAmeros_impares.ipynb\" target=\"_parent\"><img src=\"https://colab.research.google.com/assets/colab-badge.svg\" alt=\"Open In Colab\"/></a>"
      ]
    },
    {
      "cell_type": "code",
      "execution_count": 2,
      "metadata": {
        "colab": {
          "base_uri": "https://localhost:8080/"
        },
        "id": "xVzT-lXPkmgk",
        "outputId": "0532116f-f99a-4ea1-e7b7-c5fb1748d8ae"
      },
      "outputs": [
        {
          "output_type": "stream",
          "name": "stdout",
          "text": [
            "Digite um número: 6\n",
            "Digite um número: 5\n",
            "Digite um número: 34\n",
            "Digite um número: 46\n",
            "Digite um número: 347\n",
            "Digite um número: 25\n",
            "Digite um número: 734\n",
            "Digite um número: 06\n",
            "Digite um número: 945\n",
            "Digite um número: 37\n",
            "Lista completa: [6, 5, 34, 46, 347, 25, 734, 6, 945, 37]\n",
            "Pares: [6, 34, 46, 734, 6]\n",
            "Impares: [5, 347, 25, 945, 37]\n"
          ]
        }
      ],
      "source": [
        "from os import system\n",
        "num = []\n",
        "par = []\n",
        "impar = []\n",
        "for x in range(10) :\n",
        "  system('clear')\n",
        "  numero = int(input('Digite um número: '))\n",
        "  num.append(numero)\n",
        "  if numero%2 == 0 :\n",
        "    par.append(numero)\n",
        "  else :\n",
        "    impar.append(numero)\n",
        "system('clear')\n",
        "print(f'''Lista completa: {num}\n",
        "Pares: {par}\n",
        "Impares: {impar}''')"
      ]
    }
  ]
}
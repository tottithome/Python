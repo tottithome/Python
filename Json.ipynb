{
  "nbformat": 4,
  "nbformat_minor": 0,
  "metadata": {
    "colab": {
      "provenance": [],
      "authorship_tag": "ABX9TyOKvY6wIvOb2OzgEuXfPtgm",
      "include_colab_link": true
    },
    "kernelspec": {
      "name": "python3",
      "display_name": "Python 3"
    },
    "language_info": {
      "name": "python"
    }
  },
  "cells": [
    {
      "cell_type": "markdown",
      "metadata": {
        "id": "view-in-github",
        "colab_type": "text"
      },
      "source": [
        "<a href=\"https://colab.research.google.com/github/tottithome/Python/blob/main/Json.ipynb\" target=\"_parent\"><img src=\"https://colab.research.google.com/assets/colab-badge.svg\" alt=\"Open In Colab\"/></a>"
      ]
    },
    {
      "cell_type": "markdown",
      "source": [
        "Funciona no replit"
      ],
      "metadata": {
        "id": "x4DTPk7Kufcn"
      }
    },
    {
      "cell_type": "code",
      "execution_count": null,
      "metadata": {
        "id": "pfiF0eTiuO80"
      },
      "outputs": [],
      "source": [
        "import json\n",
        "\n",
        "with open('contatos.json' , 'r') as arquivo:\n",
        "    dados = json.load(arquivo)\n",
        "\n",
        "print(\"nome 1:\", dados[0])\n",
        "\n",
        "print(\"nome 1:\", dados[0][\"nome\"])"
      ]
    },
    {
      "cell_type": "markdown",
      "source": [
        "Contatos.json\n",
        "[\n",
        "  {\n",
        "    \"nome\" : \"João\",\n",
        "    \"idade\" : 30,\n",
        "    \"cidade\" : \"São Paulo\"\n",
        "  },\n",
        "  {\n",
        "    \"nome\" : \"Maria\",\n",
        "    \"idade\" : 25,\n",
        "    \"cidade\" : \"Rio de Janeiro\"\n",
        "  },\n",
        "  {\n",
        "    \"nome\" : \"Pedro\",\n",
        "    \"idade\" : 35,\n",
        "    \"cidade\" : \"Belo Horizonte\"\n",
        "  }\n",
        "]"
      ],
      "metadata": {
        "id": "z966PYHwuQD8"
      }
    }
  ]
}
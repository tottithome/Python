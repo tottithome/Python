{
  "nbformat": 4,
  "nbformat_minor": 0,
  "metadata": {
    "colab": {
      "provenance": [],
      "authorship_tag": "ABX9TyNGXEUNIkjSBcIBdWncXEjF",
      "include_colab_link": true
    },
    "kernelspec": {
      "name": "python3",
      "display_name": "Python 3"
    },
    "language_info": {
      "name": "python"
    }
  },
  "cells": [
    {
      "cell_type": "markdown",
      "metadata": {
        "id": "view-in-github",
        "colab_type": "text"
      },
      "source": [
        "<a href=\"https://colab.research.google.com/github/tottithome/Python/blob/main/Defs.ipynb\" target=\"_parent\"><img src=\"https://colab.research.google.com/assets/colab-badge.svg\" alt=\"Open In Colab\"/></a>"
      ]
    },
    {
      "cell_type": "code",
      "execution_count": 5,
      "metadata": {
        "colab": {
          "base_uri": "https://localhost:8080/"
        },
        "id": "mxWNgvwalTpL",
        "outputId": "467af99e-1828-499d-b20a-6b7b94bb6d24"
      },
      "outputs": [
        {
          "name": "stdout",
          "output_type": "stream",
          "text": [
            "~~~~~~~~~~~~~~~~~~~~~~~~~~~~~~~~~~~~~~~~\n",
            "                  menu                  \n",
            "~~~~~~~~~~~~~~~~~~~~~~~~~~~~~~~~~~~~~~~~\n",
            "  1 - Soma\n",
            "  2 - Subtração\n",
            "  3 - Multiplicação\n",
            "  4 - Divisão\n",
            "  5 - Sair\n",
            "~~~~~~~~~~~~~~~~~~~~~~~~~~~~~~~~~~~~~~~~\n",
            "\n",
            "Escolha uma opção: 5\n",
            "Digite o primeiro número: 5\n",
            "Digite o segundo número: 4\n"
          ]
        }
      ],
      "source": [
        "from time import sleep\n",
        "from os import system\n",
        "def soma(num1, num2) :\n",
        "  return num1 + num2\n",
        "\n",
        "def sub(num1, num2) :\n",
        "  return num1 - num2\n",
        "\n",
        "def mult(num1, num2) :\n",
        "  return num1 * num2\n",
        "\n",
        "def div(num1, num2) :\n",
        "  return num1 / num2\n",
        "x = 0\n",
        "while x == 0 :\n",
        "  system('clear')\n",
        "  print('~'*40 + f'\\n{\"menu\" : ^40}\\n' + '~'*40)\n",
        "  print('''  1 - Soma\n",
        "  2 - Subtração\n",
        "  3 - Multiplicação\n",
        "  4 - Divisão\n",
        "  5 - Sair''')\n",
        "  print('~'*40)\n",
        "  escolha = int(input('\\nEscolha uma opção: '))\n",
        "  system('clear')\n",
        "  pnum1 = float(input('Digite o primeiro número: '))\n",
        "  pnum2 = float(input('Digite o segundo número: '))\n",
        "  if escolha == 1 :\n",
        "    print(f'O resultado é: {soma(pnum1, pnum2)}')\n",
        "    sleep(2)\n",
        "  elif escolha == 2 :\n",
        "    print(f'O resultado é: {sub(pnum1, pnum2)}')\n",
        "    sleep(2)\n",
        "  elif escolha == 3 :\n",
        "    print(f'O resultado é: {mult(pnum1, pnum2)}')\n",
        "    sleep(2)\n",
        "  elif escolha == 4 :\n",
        "    print(f'O resultado é: {div(pnum1, pnum2)}')\n",
        "    sleep(2)\n",
        "  elif escolha == 5 :\n",
        "    break"
      ]
    }
  ]
}